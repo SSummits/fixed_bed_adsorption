{
 "cells": [
  {
   "cell_type": "markdown",
   "id": "513b36c8-ad98-4876-887d-72b538eeb244",
   "metadata": {},
   "source": [
    " # Import the RPB model"
   ]
  },
  {
   "cell_type": "code",
   "execution_count": 1,
   "id": "44adb2fe-1caf-432c-b688-5275417d6348",
   "metadata": {},
   "outputs": [],
   "source": [
    "from RPB_model import *\n",
    "from pyomo.environ import *\n",
    "from pyomo.environ import SolverManagerFactory"
   ]
  },
  {
   "cell_type": "markdown",
   "id": "015c7e2b-1d00-44a2-8948-0277d3e3c79d",
   "metadata": {},
   "source": [
    "# Create a full RPB model (Only need to run once)"
   ]
  },
  {
   "cell_type": "code",
   "execution_count": 2,
   "id": "63c61760-10eb-4d18-9712-d3ec2d3a0800",
   "metadata": {},
   "outputs": [],
   "source": [
    "RPB = full_model_creation(lean_temp_connection=True, configuration = \"counter-current\", has_pressure_drop=False)"
   ]
  },
  {
   "cell_type": "markdown",
   "id": "7b977819-e900-4e6e-84eb-658947db399f",
   "metadata": {},
   "source": [
    "# Create Objective Function"
   ]
  },
  {
   "cell_type": "code",
   "execution_count": 3,
   "id": "fc5e8e07-e333-4be4-8933-6e0c085e5712",
   "metadata": {},
   "outputs": [
    {
     "name": "stdout",
     "output_type": "stream",
     "text": [
      "objective : Size=1, Index=None, Active=True\n",
      "    Key  : Active : Sense    : Expression\n",
      "    None :   True : minimize :        obj\n"
     ]
    }
   ],
   "source": [
    "# add objective\n",
    "@RPB.Expression()\n",
    "def obj(RPB):\n",
    "    return RPB.energy_requirement\n",
    "\n",
    "RPB.objective = Objective(expr=RPB.obj)\n",
    "\n",
    "RPB.objective.pprint()"
   ]
  },
  {
   "cell_type": "markdown",
   "id": "a3d45f73-d7fd-428e-a846-335cf9c9fff8",
   "metadata": {},
   "source": [
    "### Create solver object (Only need to run once)"
   ]
  },
  {
   "cell_type": "code",
   "execution_count": 7,
   "id": "6e18edf4-a58c-456a-98b3-61d5b66e22fb",
   "metadata": {},
   "outputs": [],
   "source": [
    "# results = SolverFactory(\"gams\").solve(\n",
    "#     RPB,\n",
    "#     tee=True,\n",
    "#     keepfiles=True,\n",
    "#     solver=\"conopt4\",\n",
    "#     tmpdir=\"temp\",\n",
    "#     add_options=[\"gams_model.optfile=1;\"],\n",
    "# )\n",
    "\n",
    "# solver = SolverFactory(\"ipopt\")\n",
    "# solver.options = {\n",
    "#         \"max_iter\": 1000,\n",
    "#         \"bound_push\": 1e-8,\n",
    "#         # \"halt_on_ampl_error\": \"yes\",\n",
    "#         \"tol\": 1e-4,\n",
    "#         \"max_cpu_time\": 5*60,\n",
    "#         # \"mu_strategy\": \"adaptive\",\n",
    "#         }"
   ]
  },
  {
   "cell_type": "markdown",
   "id": "b5298bc1-d253-4b4c-83f3-b239e8a1346e",
   "metadata": {},
   "source": [
    "# Set Bounds for Decision Variables\n",
    "##### Should only need to run when initializing the model"
   ]
  },
  {
   "cell_type": "code",
   "execution_count": 4,
   "id": "96d67088-5e7f-4152-8fc7-818aa576ab99",
   "metadata": {},
   "outputs": [],
   "source": [
    "RPB.ads.L.setlb(0.01)\n",
    "RPB.ads.L.setub(40)\n",
    "RPB.des.L.setlb(0.01)\n",
    "RPB.des.L.setub(40)\n",
    "\n",
    "RPB.ads.Tx.setlb(25+273)\n",
    "RPB.ads.Tx.setub(95+273)\n",
    "\n",
    "RPB.des.Tx.setlb(100+273)\n",
    "RPB.des.Tx.setub(160+273)\n",
    "\n",
    "RPB.ads.P_in.setub(1.5)\n",
    "RPB.ads.P.setub(1.5)\n",
    "\n",
    "RPB.des.P_in.setub(1.5)\n",
    "RPB.des.P_in.setlb(1.01325)\n",
    "RPB.des.P.setub(1.5)\n",
    "\n",
    "RPB.ads.w_rpm.setlb(0.00001)\n",
    "RPB.ads.w_rpm.setub(0.1)"
   ]
  },
  {
   "cell_type": "markdown",
   "id": "13e7681e-4dfd-4a69-896c-c8badf6e6cba",
   "metadata": {},
   "source": [
    "# Initialize Using Json File (90% Capture)\n",
    "## Only run first time or if solver fails to converge to an optimal solution\n",
    "#### May have to scroll to see all results"
   ]
  },
  {
   "cell_type": "code",
   "execution_count": 5,
   "id": "9f987338-40fd-471b-aecd-588d8a0f71d3",
   "metadata": {},
   "outputs": [
    {
     "data": {
      "text/plain": [
       "{'etime_load_file': 0.17000484466552734,\n",
       " 'etime_read_dict': 0.5572657585144043,\n",
       " 'etime_read_suffixes': 0.05087685585021973}"
      ]
     },
     "execution_count": 5,
     "metadata": {},
     "output_type": "execute_result"
    }
   ],
   "source": [
    "from_json(RPB, fname=\"polishing step optimized solution 031824.json.gz\", gz=True)"
   ]
  },
  {
   "cell_type": "markdown",
   "id": "b7b64f90-9b76-4bed-b8aa-6d609b83ec6d",
   "metadata": {},
   "source": [
    "# Run to get RPB Results\n",
    "### Can copy and paste the table to excel (formatting might just be weird)"
   ]
  },
  {
   "cell_type": "code",
   "execution_count": 6,
   "id": "c5625881-181b-44ab-b2ca-0f605dc8ca0f",
   "metadata": {},
   "outputs": [
    {
     "data": {
      "text/html": [
       "<div>\n",
       "<style scoped>\n",
       "    .dataframe tbody tr th:only-of-type {\n",
       "        vertical-align: middle;\n",
       "    }\n",
       "\n",
       "    .dataframe tbody tr th {\n",
       "        vertical-align: top;\n",
       "    }\n",
       "\n",
       "    .dataframe thead th {\n",
       "        text-align: right;\n",
       "    }\n",
       "</style>\n",
       "<table border=\"1\" class=\"dataframe\">\n",
       "  <thead>\n",
       "    <tr style=\"text-align: right;\">\n",
       "      <th></th>\n",
       "      <th>Value</th>\n",
       "      <th>Doc</th>\n",
       "      <th>Fixed</th>\n",
       "      <th>Lower Bound</th>\n",
       "      <th>Upper Bound</th>\n",
       "    </tr>\n",
       "  </thead>\n",
       "  <tbody>\n",
       "    <tr>\n",
       "      <th>ads.L</th>\n",
       "      <td>2.296788</td>\n",
       "      <td>Bed Length [m]</td>\n",
       "      <td>False</td>\n",
       "      <td>0.01</td>\n",
       "      <td>40</td>\n",
       "    </tr>\n",
       "    <tr>\n",
       "      <th>ads.D</th>\n",
       "      <td>10.000000</td>\n",
       "      <td>Bed diameter [m]</td>\n",
       "      <td>True</td>\n",
       "      <td>None</td>\n",
       "      <td>None</td>\n",
       "    </tr>\n",
       "    <tr>\n",
       "      <th>ads.w_rpm</th>\n",
       "      <td>0.004795</td>\n",
       "      <td>bed rotational speed [revolutions/min]</td>\n",
       "      <td>False</td>\n",
       "      <td>0.00001</td>\n",
       "      <td>0.1</td>\n",
       "    </tr>\n",
       "    <tr>\n",
       "      <th>ads.theta</th>\n",
       "      <td>0.606012</td>\n",
       "      <td>Fraction of bed [-]</td>\n",
       "      <td>False</td>\n",
       "      <td>0.01</td>\n",
       "      <td>0.99</td>\n",
       "    </tr>\n",
       "    <tr>\n",
       "      <th>des.theta</th>\n",
       "      <td>0.393988</td>\n",
       "      <td>Fraction of bed [-]</td>\n",
       "      <td>False</td>\n",
       "      <td>0.01</td>\n",
       "      <td>0.99</td>\n",
       "    </tr>\n",
       "    <tr>\n",
       "      <th>ads.P_in</th>\n",
       "      <td>1.500000</td>\n",
       "      <td>Inlet flue gas pressure [bar]</td>\n",
       "      <td>False</td>\n",
       "      <td>1</td>\n",
       "      <td>1.5</td>\n",
       "    </tr>\n",
       "    <tr>\n",
       "      <th>ads.P_out</th>\n",
       "      <td>1.013250</td>\n",
       "      <td>Outlet adsorber pressure [bar]</td>\n",
       "      <td>True</td>\n",
       "      <td>0.99</td>\n",
       "      <td>1.2</td>\n",
       "    </tr>\n",
       "    <tr>\n",
       "      <th>ads.F_in</th>\n",
       "      <td>2572.502253</td>\n",
       "      <td>Inlet adsorber gas flow [mol/s]</td>\n",
       "      <td>False</td>\n",
       "      <td>0</td>\n",
       "      <td>None</td>\n",
       "    </tr>\n",
       "    <tr>\n",
       "      <th>ads.Tg_in</th>\n",
       "      <td>363.000000</td>\n",
       "      <td>Inlet flue gas temperature [K]</td>\n",
       "      <td>True</td>\n",
       "      <td>None</td>\n",
       "      <td>None</td>\n",
       "    </tr>\n",
       "    <tr>\n",
       "      <th>ads.Tx</th>\n",
       "      <td>298.000000</td>\n",
       "      <td>heat exchange fluid temperature, constant [K]</td>\n",
       "      <td>False</td>\n",
       "      <td>298</td>\n",
       "      <td>368</td>\n",
       "    </tr>\n",
       "    <tr>\n",
       "      <th>des.P_in</th>\n",
       "      <td>1.016762</td>\n",
       "      <td>Inlet flue gas pressure [bar]</td>\n",
       "      <td>False</td>\n",
       "      <td>1.01325</td>\n",
       "      <td>1.5</td>\n",
       "    </tr>\n",
       "    <tr>\n",
       "      <th>des.P_out</th>\n",
       "      <td>1.013250</td>\n",
       "      <td>Outlet adsorber pressure [bar]</td>\n",
       "      <td>True</td>\n",
       "      <td>0.99</td>\n",
       "      <td>1.2</td>\n",
       "    </tr>\n",
       "    <tr>\n",
       "      <th>des.F_in</th>\n",
       "      <td>30.493734</td>\n",
       "      <td>Inlet adsorber gas flow [mol/s]</td>\n",
       "      <td>False</td>\n",
       "      <td>0</td>\n",
       "      <td>None</td>\n",
       "    </tr>\n",
       "    <tr>\n",
       "      <th>des.Tg_in</th>\n",
       "      <td>393.000000</td>\n",
       "      <td>Inlet flue gas temperature [K]</td>\n",
       "      <td>True</td>\n",
       "      <td>None</td>\n",
       "      <td>None</td>\n",
       "    </tr>\n",
       "    <tr>\n",
       "      <th>des.Tx</th>\n",
       "      <td>433.000000</td>\n",
       "      <td>heat exchange fluid temperature, constant [K]</td>\n",
       "      <td>False</td>\n",
       "      <td>373</td>\n",
       "      <td>433</td>\n",
       "    </tr>\n",
       "    <tr>\n",
       "      <th>ads.CO2_capture</th>\n",
       "      <td>0.900000</td>\n",
       "      <td>CO2 capture fraction</td>\n",
       "      <td>True</td>\n",
       "      <td>None</td>\n",
       "      <td>None</td>\n",
       "    </tr>\n",
       "    <tr>\n",
       "      <th>energy_requirement</th>\n",
       "      <td>6.436162</td>\n",
       "      <td>Energy requirement [MJ/kg CO2]</td>\n",
       "      <td>N/A</td>\n",
       "      <td>N/A</td>\n",
       "      <td>N/A</td>\n",
       "    </tr>\n",
       "    <tr>\n",
       "      <th>productivity</th>\n",
       "      <td>12.655415</td>\n",
       "      <td>Productivity [kg CO2/h/m^3]</td>\n",
       "      <td>N/A</td>\n",
       "      <td>N/A</td>\n",
       "      <td>N/A</td>\n",
       "    </tr>\n",
       "    <tr>\n",
       "      <th>ads.y_in[N2]</th>\n",
       "      <td>0.902851</td>\n",
       "      <td>inlet mole fraction</td>\n",
       "      <td>True</td>\n",
       "      <td>NaN</td>\n",
       "      <td>NaN</td>\n",
       "    </tr>\n",
       "    <tr>\n",
       "      <th>ads.y_in[CO2]</th>\n",
       "      <td>0.004149</td>\n",
       "      <td>inlet mole fraction</td>\n",
       "      <td>True</td>\n",
       "      <td>NaN</td>\n",
       "      <td>NaN</td>\n",
       "    </tr>\n",
       "    <tr>\n",
       "      <th>ads.y_in[H2O]</th>\n",
       "      <td>0.093000</td>\n",
       "      <td>inlet mole fraction</td>\n",
       "      <td>True</td>\n",
       "      <td>NaN</td>\n",
       "      <td>NaN</td>\n",
       "    </tr>\n",
       "    <tr>\n",
       "      <th>ads.y_out[N2]</th>\n",
       "      <td>0.906235</td>\n",
       "      <td>outlet mole fraction</td>\n",
       "      <td>False</td>\n",
       "      <td>0.0</td>\n",
       "      <td>1.0</td>\n",
       "    </tr>\n",
       "    <tr>\n",
       "      <th>ads.y_out[CO2]</th>\n",
       "      <td>0.000416</td>\n",
       "      <td>outlet mole fraction</td>\n",
       "      <td>False</td>\n",
       "      <td>0.0</td>\n",
       "      <td>1.0</td>\n",
       "    </tr>\n",
       "    <tr>\n",
       "      <th>ads.y_out[H2O]</th>\n",
       "      <td>0.093349</td>\n",
       "      <td>outlet mole fraction</td>\n",
       "      <td>False</td>\n",
       "      <td>0.0</td>\n",
       "      <td>1.0</td>\n",
       "    </tr>\n",
       "  </tbody>\n",
       "</table>\n",
       "</div>"
      ],
      "text/plain": [
       "                          Value  \\\n",
       "ads.L                  2.296788   \n",
       "ads.D                 10.000000   \n",
       "ads.w_rpm              0.004795   \n",
       "ads.theta              0.606012   \n",
       "des.theta              0.393988   \n",
       "ads.P_in               1.500000   \n",
       "ads.P_out              1.013250   \n",
       "ads.F_in            2572.502253   \n",
       "ads.Tg_in            363.000000   \n",
       "ads.Tx               298.000000   \n",
       "des.P_in               1.016762   \n",
       "des.P_out              1.013250   \n",
       "des.F_in              30.493734   \n",
       "des.Tg_in            393.000000   \n",
       "des.Tx               433.000000   \n",
       "ads.CO2_capture        0.900000   \n",
       "energy_requirement     6.436162   \n",
       "productivity          12.655415   \n",
       "ads.y_in[N2]           0.902851   \n",
       "ads.y_in[CO2]          0.004149   \n",
       "ads.y_in[H2O]          0.093000   \n",
       "ads.y_out[N2]          0.906235   \n",
       "ads.y_out[CO2]         0.000416   \n",
       "ads.y_out[H2O]         0.093349   \n",
       "\n",
       "                                                              Doc  Fixed  \\\n",
       "ads.L                                              Bed Length [m]  False   \n",
       "ads.D                                            Bed diameter [m]   True   \n",
       "ads.w_rpm                  bed rotational speed [revolutions/min]  False   \n",
       "ads.theta                                     Fraction of bed [-]  False   \n",
       "des.theta                                     Fraction of bed [-]  False   \n",
       "ads.P_in                            Inlet flue gas pressure [bar]  False   \n",
       "ads.P_out                          Outlet adsorber pressure [bar]   True   \n",
       "ads.F_in                          Inlet adsorber gas flow [mol/s]  False   \n",
       "ads.Tg_in                          Inlet flue gas temperature [K]   True   \n",
       "ads.Tx              heat exchange fluid temperature, constant [K]  False   \n",
       "des.P_in                            Inlet flue gas pressure [bar]  False   \n",
       "des.P_out                          Outlet adsorber pressure [bar]   True   \n",
       "des.F_in                          Inlet adsorber gas flow [mol/s]  False   \n",
       "des.Tg_in                          Inlet flue gas temperature [K]   True   \n",
       "des.Tx              heat exchange fluid temperature, constant [K]  False   \n",
       "ads.CO2_capture                              CO2 capture fraction   True   \n",
       "energy_requirement                 Energy requirement [MJ/kg CO2]    N/A   \n",
       "productivity                          Productivity [kg CO2/h/m^3]    N/A   \n",
       "ads.y_in[N2]                                  inlet mole fraction   True   \n",
       "ads.y_in[CO2]                                 inlet mole fraction   True   \n",
       "ads.y_in[H2O]                                 inlet mole fraction   True   \n",
       "ads.y_out[N2]                                outlet mole fraction  False   \n",
       "ads.y_out[CO2]                               outlet mole fraction  False   \n",
       "ads.y_out[H2O]                               outlet mole fraction  False   \n",
       "\n",
       "                   Lower Bound Upper Bound  \n",
       "ads.L                     0.01          40  \n",
       "ads.D                     None        None  \n",
       "ads.w_rpm              0.00001         0.1  \n",
       "ads.theta                 0.01        0.99  \n",
       "des.theta                 0.01        0.99  \n",
       "ads.P_in                     1         1.5  \n",
       "ads.P_out                 0.99         1.2  \n",
       "ads.F_in                     0        None  \n",
       "ads.Tg_in                 None        None  \n",
       "ads.Tx                     298         368  \n",
       "des.P_in               1.01325         1.5  \n",
       "des.P_out                 0.99         1.2  \n",
       "des.F_in                     0        None  \n",
       "des.Tg_in                 None        None  \n",
       "des.Tx                     373         433  \n",
       "ads.CO2_capture           None        None  \n",
       "energy_requirement         N/A         N/A  \n",
       "productivity               N/A         N/A  \n",
       "ads.y_in[N2]               NaN         NaN  \n",
       "ads.y_in[CO2]              NaN         NaN  \n",
       "ads.y_in[H2O]              NaN         NaN  \n",
       "ads.y_out[N2]              0.0         1.0  \n",
       "ads.y_out[CO2]             0.0         1.0  \n",
       "ads.y_out[H2O]             0.0         1.0  "
      ]
     },
     "execution_count": 6,
     "metadata": {},
     "output_type": "execute_result"
    }
   ],
   "source": [
    "report(RPB)"
   ]
  },
  {
   "cell_type": "markdown",
   "id": "5bc23460-6e83-48b4-bf9f-462b438513b9",
   "metadata": {},
   "source": [
    "# Fix decision Variables"
   ]
  },
  {
   "cell_type": "code",
   "execution_count": 7,
   "id": "615adc6e-f7fe-47f1-8221-573423abfc08",
   "metadata": {},
   "outputs": [],
   "source": [
    "RPB.ads.F_in.fix()\n",
    "RPB.ads.P_in.fix()\n",
    "RPB.ads.P_out.unfix()"
   ]
  },
  {
   "cell_type": "markdown",
   "id": "204286c3-7596-4271-99de-d65e86728e5c",
   "metadata": {},
   "source": [
    "# Ipopt Solver"
   ]
  },
  {
   "cell_type": "code",
   "execution_count": null,
   "id": "395fd04e-3e49-4a12-8d42-dcf25838c734",
   "metadata": {},
   "outputs": [
    {
     "name": "stdout",
     "output_type": "stream",
     "text": [
      "WARNING: model contains export suffix 'scaling_factor' that contains 9\n",
      "component keys that are not exported as part of the NL file.  Skipping.\n",
      "WARNING: model contains export suffix 'scaling_factor' that contains 2 keys\n",
      "that are not Var, Constraint, Objective, or the model.  Skipping.\n",
      "Ipopt 3.13.2: max_iter=1000\n",
      "bound_push=1e-08\n",
      "tol=0.0001\n",
      "\n",
      "\n",
      "******************************************************************************\n",
      "This program contains Ipopt, a library for large-scale nonlinear optimization.\n",
      " Ipopt is released as open source code under the Eclipse Public License (EPL).\n",
      "         For more information visit http://projects.coin-or.org/Ipopt\n",
      "\n",
      "This version of Ipopt was compiled from source code available at\n",
      "    https://github.com/IDAES/Ipopt as part of the Institute for the Design of\n",
      "    Advanced Energy Systems Process Systems Engineering Framework (IDAES PSE\n",
      "    Framework) Copyright (c) 2018-2019. See https://github.com/IDAES/idaes-pse.\n",
      "\n",
      "This version of Ipopt was compiled using HSL, a collection of Fortran codes\n",
      "    for large-scale scientific computation.  All technical papers, sales and\n",
      "    publicity material resulting from use of the HSL codes within IPOPT must\n",
      "    contain the following acknowledgement:\n",
      "        HSL, a collection of Fortran codes for large-scale scientific\n",
      "        computation. See http://www.hsl.rl.ac.uk.\n",
      "******************************************************************************\n",
      "\n",
      "This is Ipopt version 3.13.2, running with linear solver ma27.\n",
      "\n",
      "Number of nonzeros in equality constraint Jacobian...:    81095\n",
      "Number of nonzeros in inequality constraint Jacobian.:        0\n",
      "Number of nonzeros in Lagrangian Hessian.............:   144165\n",
      "\n",
      "Total number of variables............................:    21939\n",
      "                     variables with only lower bounds:       45\n",
      "                variables with lower and upper bounds:    12442\n",
      "                     variables with only upper bounds:        0\n",
      "Total number of equality constraints.................:    21934\n",
      "Total number of inequality constraints...............:        0\n",
      "        inequality constraints with only lower bounds:        0\n",
      "   inequality constraints with lower and upper bounds:        0\n",
      "        inequality constraints with only upper bounds:        0\n",
      "\n",
      "iter    objective    inf_pr   inf_du lg(mu)  ||d||  lg(rg) alpha_du alpha_pr  ls\n",
      "   0  6.4361619e+00 6.17e-01 1.00e+02  -1.0 0.00e+00    -  0.00e+00 0.00e+00   0\n",
      "   1  6.5072610e+00 2.68e+01 1.66e+06  -1.0 4.60e+02    -  6.01e-02 4.02e-01f  1\n",
      "   2  6.5070000e+00 2.66e+01 1.64e+06  -1.0 7.46e+01  -2.0 5.94e-02 5.96e-03h  1\n",
      "   3  6.5070014e+00 2.66e+01 1.51e+06  -1.0 7.39e+01  -2.5 5.74e-01 6.01e-05h  1\n",
      "   4  6.5070088e+00 2.66e+01 5.20e+07  -1.0 7.32e+01  -2.1 9.01e-02 2.54e-04h  1\n",
      "   5  6.5099363e+00 2.39e+01 3.41e+07  -1.0 7.37e+01  -2.5 8.13e-02 1.07e-01f  1\n",
      "   6  6.5338147e+00 1.08e+01 2.34e+08  -1.0 3.61e+01  -2.1 1.71e-01 6.62e-01h  1\n",
      "   7  6.5392545e+00 8.40e+00 6.67e+07  -1.0 4.74e+01  -2.6 3.76e-01 2.24e-01f  1\n"
     ]
    }
   ],
   "source": [
    "solver = SolverFactory(\"ipopt\")\n",
    "solver.options = {\n",
    "        \"max_iter\": 1000,\n",
    "        \"bound_push\": 1e-8,\n",
    "        # \"halt_on_ampl_error\": \"yes\",\n",
    "        \"tol\": 1e-4,\n",
    "        # \"max_cpu_time\": 5*60,\n",
    "        # \"mu_strategy\": \"adaptive\",\n",
    "        }\n",
    "results = solver.solve(RPB, tee=True)\n",
    "results.write()"
   ]
  },
  {
   "cell_type": "markdown",
   "id": "1d69e8e3-6e95-4c3c-8c38-ff2684c6d4c4",
   "metadata": {},
   "source": [
    "# Fix Capture Efficiency and Solve"
   ]
  },
  {
   "cell_type": "code",
   "execution_count": 15,
   "id": "d0aa6fb8-0b77-4605-819e-ce8f6db9d6fd",
   "metadata": {},
   "outputs": [
    {
     "name": "stdout",
     "output_type": "stream",
     "text": [
      "WARNING: model contains export suffix 'des.scaling_factor' that contains 5\n",
      "component keys that are not exported as part of the NL file.  Skipping.\n",
      "WARNING: model contains export suffix 'ads.scaling_factor' that contains 5\n",
      "component keys that are not exported as part of the NL file.  Skipping.\n",
      "WARNING: Loading a SolverResults object with a warning status into\n",
      "model.name=\"unknown\";\n",
      "    - termination condition: optimal\n",
      "    - message from solver: CONOPT 3.17A\\x3a Locally optimal; objective\n",
      "      4.068171879792977; 176 iterations; evals\\x3a nf = 1314, ng = 759, nc =\n",
      "      12345, nJ = 759, nH = 0, nHv = 35; 6 failed evaluations\n",
      "# ==========================================================\n",
      "# = Solver Results                                         =\n",
      "# ==========================================================\n",
      "# ----------------------------------------------------------\n",
      "#   Problem Information\n",
      "# ----------------------------------------------------------\n",
      "Problem: \n",
      "- Lower bound: -inf\n",
      "  Upper bound: inf\n",
      "  Number of objectives: 1\n",
      "  Number of constraints: 21934\n",
      "  Number of variables: 21940\n",
      "  Sense: unknown\n",
      "# ----------------------------------------------------------\n",
      "#   Solver Information\n",
      "# ----------------------------------------------------------\n",
      "Solver: \n",
      "- Status: warning\n",
      "  Message: CONOPT 3.17A\\x3a Locally optimal; objective 4.068171879792977; 176 iterations; evals\\x3a nf = 1314, ng = 759, nc = 12345, nJ = 759, nH = 0, nHv = 35; 6 failed evaluations\n",
      "  Termination condition: optimal\n",
      "  Id: 100\n",
      "# ----------------------------------------------------------\n",
      "#   Solution Information\n",
      "# ----------------------------------------------------------\n",
      "Solution: \n",
      "- number of solutions: 0\n",
      "  number of solutions displayed: 0\n"
     ]
    }
   ],
   "source": [
    "RPB.ads.CO2_capture.fix(0.9)\n",
    "# solver = SolverFactory('conopt')\n",
    "# solver.solve(RPB, tee=True)\n",
    "\n",
    "# solver.solve(RPB, tee=True)\n",
    "# results = SolverFactory(\"gams\").solve(\n",
    "#     RPB,\n",
    "#     tee=True,\n",
    "#     keepfiles=True,\n",
    "#     solver=\"conopt4\",\n",
    "#     tmpdir=\"temp\",\n",
    "#     add_options=[\"gams_model.optfile=1;\"],\n",
    "# )\n",
    "\n",
    "opt = SolverFactory(\"gams\")\n",
    "solver_manager = SolverManagerFactory('neos')\n",
    "results = solver_manager.solve(\n",
    "    RPB,\n",
    "    tee=True,\n",
    "    # keedfiles=True,\n",
    "    solver=\"conopt\",\n",
    "    # tmpdir=\"temp\",\n",
    "    options={'outlev': 2,\n",
    "            'workfactor': 3,},\n",
    "    # add_options=[\"gams_model.optfile=1;\"],\n",
    ")\n",
    "results.write()"
   ]
  },
  {
   "cell_type": "code",
   "execution_count": 3,
   "id": "f1b37ae2-30b1-4b19-8519-84f4e48cc0f2",
   "metadata": {},
   "outputs": [
    {
     "name": "stdout",
     "output_type": "stream",
     "text": [
      "ss0233@mix.wvu.edu\n",
      "<class 'str'>\n"
     ]
    }
   ],
   "source": [
    "import os\n",
    "email = os.environ.get('NEOS_EMAIL', '')\n",
    "print(email)\n",
    "print(type(email))"
   ]
  },
  {
   "cell_type": "code",
   "execution_count": 12,
   "id": "2f2da16d-a95a-4f3b-9883-a8372c78fef0",
   "metadata": {},
   "outputs": [
    {
     "ename": "ModuleNotFoundError",
     "evalue": "No module named 'temp.gams_model'",
     "output_type": "error",
     "traceback": [
      "\u001b[1;31m---------------------------------------------------------------------------\u001b[0m",
      "\u001b[1;31mModuleNotFoundError\u001b[0m                       Traceback (most recent call last)",
      "Cell \u001b[1;32mIn[12], line 1\u001b[0m\n\u001b[1;32m----> 1\u001b[0m \u001b[38;5;28;01mimport\u001b[39;00m \u001b[38;5;21;01mtemp\u001b[39;00m\u001b[38;5;21;01m.\u001b[39;00m\u001b[38;5;21;01mgams_model\u001b[39;00m\n\u001b[0;32m      2\u001b[0m gams_model\u001b[38;5;241m.\u001b[39moptfile\u001b[38;5;241m=\u001b[39m\u001b[38;5;241m1\u001b[39m\n",
      "\u001b[1;31mModuleNotFoundError\u001b[0m: No module named 'temp.gams_model'"
     ]
    }
   ],
   "source": [
    "gams_model.optfile=1;"
   ]
  },
  {
   "cell_type": "markdown",
   "id": "dcf7f08d-dada-481c-8b1c-2a405d7997d1",
   "metadata": {},
   "source": [
    "# Check Infeasible Constraints"
   ]
  },
  {
   "cell_type": "code",
   "execution_count": 18,
   "id": "b9ad6222-0851-4cee-baba-4b3fff910278",
   "metadata": {},
   "outputs": [
    {
     "name": "stdout",
     "output_type": "stream",
     "text": [
      "There are 0 infeasible constraints\n"
     ]
    }
   ],
   "source": [
    "from pyomo.util.infeasible import find_infeasible_constraints as find_inf_con\n",
    "i = 0\n",
    "for c in find_inf_con(RPB):\n",
    "    i += 1\n",
    "    print(c[0], c[1])\n",
    "print(f'There are {i} infeasible constraints')"
   ]
  },
  {
   "cell_type": "code",
   "execution_count": null,
   "id": "4cb58a86-ec3e-4b50-8b0e-33892f2373f6",
   "metadata": {},
   "outputs": [],
   "source": []
  }
 ],
 "metadata": {
  "kernelspec": {
   "display_name": "Python 3 (ipykernel)",
   "language": "python",
   "name": "python3"
  },
  "language_info": {
   "codemirror_mode": {
    "name": "ipython",
    "version": 3
   },
   "file_extension": ".py",
   "mimetype": "text/x-python",
   "name": "python",
   "nbconvert_exporter": "python",
   "pygments_lexer": "ipython3",
   "version": "3.9.13"
  }
 },
 "nbformat": 4,
 "nbformat_minor": 5
}
