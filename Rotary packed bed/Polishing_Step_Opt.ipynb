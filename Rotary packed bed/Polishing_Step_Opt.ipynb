{
 "cells": [
  {
   "cell_type": "markdown",
   "id": "513b36c8-ad98-4876-887d-72b538eeb244",
   "metadata": {},
   "source": [
    " # Import the RPB model"
   ]
  },
  {
   "cell_type": "code",
   "execution_count": null,
   "id": "44adb2fe-1caf-432c-b688-5275417d6348",
   "metadata": {},
   "outputs": [],
   "source": [
    "from RPB_model import *"
   ]
  },
  {
   "cell_type": "markdown",
   "id": "015c7e2b-1d00-44a2-8948-0277d3e3c79d",
   "metadata": {},
   "source": [
    "# Create a full RPB model (Only need to run once)"
   ]
  },
  {
   "cell_type": "code",
   "execution_count": null,
   "id": "dc05b860-8d7b-4945-9003-4fef0e2986cd",
   "metadata": {},
   "outputs": [],
   "source": [
    "RPB = full_model_creation(lean_temp_connection=True, configuration = \"counter-current\")\n",
    "\n",
    "# add objective\n",
    "@RPB.Expression()\n",
    "def obj(RPB):\n",
    "    return RPB.energy_requirement\n",
    "\n",
    "RPB.objective = Objective(expr=RPB.obj)\n",
    "\n",
    "RPB.objective.pprint()"
   ]
  },
  {
   "cell_type": "markdown",
   "id": "a3d45f73-d7fd-428e-a846-335cf9c9fff8",
   "metadata": {},
   "source": [
    "### Create solver object (Only need to run once)"
   ]
  },
  {
   "cell_type": "code",
   "execution_count": null,
   "id": "6e18edf4-a58c-456a-98b3-61d5b66e22fb",
   "metadata": {},
   "outputs": [],
   "source": [
    "# results = SolverFactory(\"gams\").solve(\n",
    "#     RPB,\n",
    "#     tee=True,\n",
    "#     keepfiles=True,\n",
    "#     solver=\"conopt4\",\n",
    "#     tmpdir=\"temp\",\n",
    "#     add_options=[\"gams_model.optfile=1;\"],\n",
    "# )\n",
    "\n",
    "solver = SolverFactory(\"ipopt\")\n",
    "solver.options = {\n",
    "        \"max_iter\": 1000,\n",
    "        \"bound_push\": 1e-8,\n",
    "        # \"halt_on_ampl_error\": \"yes\",\n",
    "        \"tol\": 1e-4,\n",
    "        \"max_cpu_time\": 5*60,\n",
    "        # \"mu_strategy\": \"adaptive\",\n",
    "        }"
   ]
  },
  {
   "cell_type": "markdown",
   "id": "b5298bc1-d253-4b4c-83f3-b239e8a1346e",
   "metadata": {},
   "source": [
    "# Set Bounds for Decision Variables\n",
    "##### Should only need to run when initializing the model"
   ]
  },
  {
   "cell_type": "code",
   "execution_count": null,
   "id": "96d67088-5e7f-4152-8fc7-818aa576ab99",
   "metadata": {},
   "outputs": [],
   "source": [
    "RPB.ads.L.setlb(0.01)\n",
    "RPB.ads.L.setub(40)\n",
    "RPB.des.L.setlb(0.01)\n",
    "RPB.des.L.setub(40)\n",
    "\n",
    "RPB.ads.Tx.setlb(25+273)\n",
    "RPB.ads.Tx.setub(95+273)\n",
    "\n",
    "RPB.des.Tx.setlb(100+273)\n",
    "RPB.des.Tx.setub(160+273)\n",
    "\n",
    "RPB.ads.P_in.setub(1.5)\n",
    "RPB.ads.P.setub(1.5)\n",
    "\n",
    "RPB.des.P_in.setub(1.5)\n",
    "RPB.des.P_in.setlb(1.01325)\n",
    "RPB.des.P.setub(1.5)\n",
    "\n",
    "RPB.ads.w_rpm.setlb(0.00001)\n",
    "RPB.ads.w_rpm.setub(0.1)"
   ]
  },
  {
   "cell_type": "markdown",
   "id": "13e7681e-4dfd-4a69-896c-c8badf6e6cba",
   "metadata": {},
   "source": [
    "# Initialize Using Json File (90% Capture)\n",
    "## Only run first time or if solver fails to converge to an optimal solution\n",
    "#### May have to scroll to see all results"
   ]
  },
  {
   "cell_type": "code",
   "execution_count": null,
   "id": "9f987338-40fd-471b-aecd-588d8a0f71d3",
   "metadata": {},
   "outputs": [],
   "source": [
    "from_json(RPB, fname=\"polishing step optimized solution 031824.json.gz\", gz=True)"
   ]
  },
  {
   "cell_type": "markdown",
   "id": "b7b64f90-9b76-4bed-b8aa-6d609b83ec6d",
   "metadata": {},
   "source": [
    "# Run to get RPB Results\n",
    "### Can copy and paste the table to excel (formatting might just be weird)"
   ]
  },
  {
   "cell_type": "code",
   "execution_count": null,
   "id": "c5625881-181b-44ab-b2ca-0f605dc8ca0f",
   "metadata": {},
   "outputs": [],
   "source": [
    "report(RPB)"
   ]
  },
  {
   "cell_type": "markdown",
   "id": "1d69e8e3-6e95-4c3c-8c38-ff2684c6d4c4",
   "metadata": {},
   "source": [
    "# Fix Capture Efficiency and Solve"
   ]
  },
  {
   "cell_type": "code",
   "execution_count": null,
   "id": "d0aa6fb8-0b77-4605-819e-ce8f6db9d6fd",
   "metadata": {},
   "outputs": [],
   "source": [
    "RPB.ads.CO2_Capture.fix(0.9)\n",
    "\n",
    "solver.solve(RPB, tee=True)"
   ]
  }
 ],
 "metadata": {
  "kernelspec": {
   "display_name": "",
   "name": ""
  },
  "language_info": {
   "name": ""
  }
 },
 "nbformat": 4,
 "nbformat_minor": 5
}
