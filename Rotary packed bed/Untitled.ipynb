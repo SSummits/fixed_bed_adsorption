{
 "cells": [
  {
   "cell_type": "code",
   "execution_count": null,
   "id": "44adb2fe-1caf-432c-b688-5275417d6348",
   "metadata": {},
   "outputs": [],
   "source": [
    "from RPB_model import *"
   ]
  },
  {
   "cell_type": "code",
   "execution_count": null,
   "id": "dc05b860-8d7b-4945-9003-4fef0e2986cd",
   "metadata": {},
   "outputs": [],
   "source": [
    "RPB = full_model_creation(lean_temp_connection=True, configuration = \"counter-current\")\n"
   ]
  }
 ],
 "metadata": {
  "kernelspec": {
   "display_name": "",
   "name": ""
  },
  "language_info": {
   "name": ""
  }
 },
 "nbformat": 4,
 "nbformat_minor": 5
}
